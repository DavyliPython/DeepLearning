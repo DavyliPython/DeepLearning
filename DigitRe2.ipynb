{
  "nbformat": 4,
  "nbformat_minor": 0,
  "metadata": {
    "colab": {
      "name": "DigitRe2.ipynb",
      "version": "0.3.2",
      "provenance": [],
      "collapsed_sections": [],
      "include_colab_link": true
    },
    "kernelspec": {
      "name": "python3",
      "display_name": "Python 3"
    },
    "accelerator": "GPU"
  },
  "cells": [
    {
      "cell_type": "markdown",
      "metadata": {
        "id": "view-in-github",
        "colab_type": "text"
      },
      "source": [
        "[View in Colaboratory](https://colab.research.google.com/github/DavyliPython/DeepLearning/blob/master/DigitRe2.ipynb)"
      ]
    },
    {
      "metadata": {
        "id": "_vRniBAK-IX7",
        "colab_type": "code",
        "colab": {
          "base_uri": "https://localhost:8080/",
          "height": 34
        },
        "outputId": "fa9b9be9-2bce-4f98-f45c-79631b48b862"
      },
      "cell_type": "code",
      "source": [
        "import pandas as pd\n",
        "import numpy as np\n",
        "import matplotlib.pyplot as plt\n",
        "import matplotlib.image as mpimg\n",
        "import seaborn as sns\n",
        "%matplotlib inline\n",
        "\n",
        "np.random.seed(2)\n",
        "\n",
        "from sklearn.model_selection import train_test_split\n",
        "from sklearn.metrics import confusion_matrix\n",
        "import itertools\n",
        "\n",
        "from keras.utils.np_utils import to_categorical # convert to one-hot-encoding\n",
        "from keras.models import Sequential\n",
        "from keras.layers import Dense, Dropout, Flatten, Conv2D, MaxPool2D\n",
        "from keras.optimizers import RMSprop\n",
        "from keras.preprocessing.image import ImageDataGenerator\n",
        "from keras.callbacks import ReduceLROnPlateau"
      ],
      "execution_count": 1,
      "outputs": [
        {
          "output_type": "stream",
          "text": [
            "Using TensorFlow backend.\n"
          ],
          "name": "stderr"
        }
      ]
    },
    {
      "metadata": {
        "id": "_C6t5HCw-dCi",
        "colab_type": "code",
        "colab": {
          "base_uri": "https://localhost:8080/",
          "height": 17
        },
        "outputId": "be9af989-3567-43c1-a699-3e99594a9459"
      },
      "cell_type": "code",
      "source": [
        "sns.set(style='white', context='notebook', palette='deep')"
      ],
      "execution_count": 2,
      "outputs": []
    },
    {
      "metadata": {
        "id": "1ra_viAd-nA_",
        "colab_type": "code",
        "colab": {
          "base_uri": "https://localhost:8080/",
          "height": 547
        },
        "outputId": "939329e3-3c2d-4407-f638-8916199f066d"
      },
      "cell_type": "code",
      "source": [
        "!pip install kaggle_cli\n",
        "!kg download -u sheman2001 -p 35433011 -c digit-recognizer -f train.csv\n",
        "!kg download -u sheman2001 -p 35433011 -c digit-recognizer -f test.csv"
      ],
      "execution_count": 3,
      "outputs": [
        {
          "output_type": "stream",
          "text": [
            "Requirement already satisfied: kaggle_cli in /usr/local/lib/python3.6/dist-packages (0.12.13)\r\n",
            "Requirement already satisfied: cssselect<1.1,>=1.0.1 in /usr/local/lib/python3.6/dist-packages (from kaggle_cli) (1.0.3)\r\n",
            "Requirement already satisfied: cliff<2.9,>=2.8.0 in /usr/local/lib/python3.6/dist-packages (from kaggle_cli) (2.8.1)\r\n",
            "Requirement already satisfied: MechanicalSoup<0.9,>=0.7.0 in /usr/local/lib/python3.6/dist-packages (from kaggle_cli) (0.8.0)\n",
            "Requirement already satisfied: lxml<4.1,>=4.0.0 in /usr/local/lib/python3.6/dist-packages (from kaggle_cli) (4.0.0)\n",
            "Requirement already satisfied: configparser in /usr/local/lib/python3.6/dist-packages (from kaggle_cli) (3.5.0)\n",
            "Requirement already satisfied: beautifulsoup4<4.7,>=4.6.0 in /usr/local/lib/python3.6/dist-packages (from kaggle_cli) (4.6.0)\n",
            "Requirement already satisfied: progressbar2<3.35,>=3.34.3 in /usr/local/lib/python3.6/dist-packages (from kaggle_cli) (3.34.3)\n",
            "Requirement already satisfied: cmd2>=0.6.7 in /usr/local/lib/python3.6/dist-packages (from cliff<2.9,>=2.8.0->kaggle_cli) (0.9.1)\n",
            "Requirement already satisfied: six>=1.9.0 in /usr/local/lib/python3.6/dist-packages (from cliff<2.9,>=2.8.0->kaggle_cli) (1.11.0)\n",
            "Requirement already satisfied: pbr!=2.1.0,>=2.0.0 in /usr/local/lib/python3.6/dist-packages (from cliff<2.9,>=2.8.0->kaggle_cli) (4.0.4)\n",
            "Requirement already satisfied: PyYAML>=3.10.0 in /usr/local/lib/python3.6/dist-packages (from cliff<2.9,>=2.8.0->kaggle_cli) (3.12)\n",
            "Requirement already satisfied: stevedore>=1.20.0 in /usr/local/lib/python3.6/dist-packages (from cliff<2.9,>=2.8.0->kaggle_cli) (1.28.0)\n",
            "Requirement already satisfied: pyparsing>=2.1.0 in /usr/local/lib/python3.6/dist-packages (from cliff<2.9,>=2.8.0->kaggle_cli) (2.2.0)\n",
            "Requirement already satisfied: PrettyTable<0.8,>=0.7.1 in /usr/local/lib/python3.6/dist-packages (from cliff<2.9,>=2.8.0->kaggle_cli) (0.7.2)\n",
            "Requirement already satisfied: requests>=2.0 in /usr/local/lib/python3.6/dist-packages (from MechanicalSoup<0.9,>=0.7.0->kaggle_cli) (2.18.4)\n",
            "Requirement already satisfied: python-utils>=2.1.0 in /usr/local/lib/python3.6/dist-packages (from progressbar2<3.35,>=3.34.3->kaggle_cli) (2.3.0)\n",
            "Requirement already satisfied: colorama in /usr/local/lib/python3.6/dist-packages (from cmd2>=0.6.7->cliff<2.9,>=2.8.0->kaggle_cli) (0.3.9)\n",
            "Requirement already satisfied: wcwidth; sys_platform != \"win32\" in /usr/local/lib/python3.6/dist-packages (from cmd2>=0.6.7->cliff<2.9,>=2.8.0->kaggle_cli) (0.1.7)\n",
            "Requirement already satisfied: pyperclip>=1.5.27 in /usr/local/lib/python3.6/dist-packages (from cmd2>=0.6.7->cliff<2.9,>=2.8.0->kaggle_cli) (1.6.2)\n",
            "Requirement already satisfied: certifi>=2017.4.17 in /usr/local/lib/python3.6/dist-packages (from requests>=2.0->MechanicalSoup<0.9,>=0.7.0->kaggle_cli) (2018.4.16)\n",
            "Requirement already satisfied: chardet<3.1.0,>=3.0.2 in /usr/local/lib/python3.6/dist-packages (from requests>=2.0->MechanicalSoup<0.9,>=0.7.0->kaggle_cli) (3.0.4)\n",
            "Requirement already satisfied: idna<2.7,>=2.5 in /usr/local/lib/python3.6/dist-packages (from requests>=2.0->MechanicalSoup<0.9,>=0.7.0->kaggle_cli) (2.6)\n",
            "Requirement already satisfied: urllib3<1.23,>=1.21.1 in /usr/local/lib/python3.6/dist-packages (from requests>=2.0->MechanicalSoup<0.9,>=0.7.0->kaggle_cli) (1.22)\n",
            "downloading https://www.kaggle.com/c/digit-recognizer/download/train.csv\n",
            "\n",
            "train.csv already downloaded !\n",
            "downloading https://www.kaggle.com/c/digit-recognizer/download/test.csv\n",
            "\n",
            "test.csv already downloaded !\n"
          ],
          "name": "stdout"
        }
      ]
    },
    {
      "metadata": {
        "id": "HwYPSTRhBDc_",
        "colab_type": "code",
        "colab": {
          "base_uri": "https://localhost:8080/",
          "height": 17
        },
        "outputId": "a38ec5f0-ba04-4f7d-9edf-e470c6088d5d"
      },
      "cell_type": "code",
      "source": [
        "train = pd.read_csv(\"train.csv\")\n",
        "test = pd.read_csv(\"test.csv\")"
      ],
      "execution_count": 4,
      "outputs": []
    },
    {
      "metadata": {
        "id": "SvuYItp2BdEU",
        "colab_type": "code",
        "colab": {
          "base_uri": "https://localhost:8080/",
          "height": 34
        },
        "outputId": "e61d4f6e-393c-4b78-ee4a-23b45a6cdc30"
      },
      "cell_type": "code",
      "source": [
        "!dir"
      ],
      "execution_count": 5,
      "outputs": [
        {
          "output_type": "stream",
          "text": [
            "datalab  test.csv  train.csv\r\n"
          ],
          "name": "stdout"
        }
      ]
    },
    {
      "metadata": {
        "id": "cZPhdkXEBaMY",
        "colab_type": "code",
        "colab": {
          "base_uri": "https://localhost:8080/",
          "height": 582
        },
        "outputId": "2ccd7df1-0194-4594-f61e-3e5454168c44"
      },
      "cell_type": "code",
      "source": [
        "Y_train = train[\"label\"]\n",
        "\n",
        "# Drop 'label' column\n",
        "X_train = train.drop(labels = [\"label\"],axis = 1) \n",
        "\n",
        "# free some space\n",
        "del train \n",
        "\n",
        "g = sns.countplot(Y_train)\n",
        "\n",
        "Y_train.value_counts()"
      ],
      "execution_count": 6,
      "outputs": [
        {
          "output_type": "stream",
          "text": [
            "/usr/local/lib/python3.6/dist-packages/seaborn/categorical.py:1428: FutureWarning: remove_na is deprecated and is a private function. Do not use.\n",
            "  stat_data = remove_na(group_data)\n"
          ],
          "name": "stderr"
        },
        {
          "output_type": "execute_result",
          "data": {
            "text/plain": [
              "1    4684\n",
              "7    4401\n",
              "3    4351\n",
              "9    4188\n",
              "2    4177\n",
              "6    4137\n",
              "0    4132\n",
              "4    4072\n",
              "8    4063\n",
              "5    3795\n",
              "Name: label, dtype: int64"
            ]
          },
          "metadata": {
            "tags": []
          },
          "execution_count": 6
        },
        {
          "output_type": "display_data",
          "data": {
            "image/png": "[encoded data removed]",
            "text/plain": [
              "<matplotlib.figure.Figure at 0x7f789eba2f60>"
            ]
          },
          "metadata": {
            "tags": []
          }
        }
      ]
    },
    {
      "metadata": {
        "id": "e5rcuPpwCNwZ",
        "colab_type": "code",
        "colab": {
          "base_uri": "https://localhost:8080/",
          "height": 102
        },
        "outputId": "e6e7b3d2-6c76-45ea-cb15-52c26ce266e1"
      },
      "cell_type": "code",
      "source": [
        "X_train.isnull().any().describe()\n",
        "test.isnull().any().describe()"
      ],
      "execution_count": 7,
      "outputs": [
        {
          "output_type": "execute_result",
          "data": {
            "text/plain": [
              "count       784\n",
              "unique        1\n",
              "top       False\n",
              "freq        784\n",
              "dtype: object"
            ]
          },
          "metadata": {
            "tags": []
          },
          "execution_count": 7
        }
      ]
    },
    {
      "metadata": {
        "id": "zN6p4NUlCWRH",
        "colab_type": "code",
        "colab": {
          "base_uri": "https://localhost:8080/",
          "height": 17
        },
        "outputId": "5e8193fa-8bdc-4b0d-9f9a-6a6c8346d829"
      },
      "cell_type": "code",
      "source": [
        ""
      ],
      "execution_count": 7,
      "outputs": []
    },
    {
      "metadata": {
        "id": "KibQ2XKmHtlG",
        "colab_type": "code",
        "colab": {
          "base_uri": "https://localhost:8080/",
          "height": 347
        },
        "outputId": "d7a0711a-6c25-480a-aced-374240888139"
      },
      "cell_type": "code",
      "source": [
        "X_train = X_train / 255.0\n",
        "test = test / 255.0\n",
        "X_train = X_train.values.reshape(-1,28,28,1)\n",
        "test = test.values.reshape(-1,28,28,1)\n",
        "Y_train = to_categorical(Y_train, num_classes = 10)\n",
        "random_seed = 2\n",
        "X_train, X_val, Y_train, Y_val = train_test_split(X_train, Y_train, test_size = 0.1, random_state=random_seed)\n",
        "g = plt.imshow(X_train[0][:,:,0])"
      ],
      "execution_count": 8,
      "outputs": [
        {
          "output_type": "display_data",
          "data": {
            "image/png": "[encoded data removed]",
            "text/plain": [
              "<matplotlib.figure.Figure at 0x7f789eba2940>"
            ]
          },
          "metadata": {
            "tags": []
          }
        }
      ]
    },
    {
      "metadata": {
        "id": "Dk3n77U9JP-w",
        "colab_type": "code",
        "colab": {
          "base_uri": "https://localhost:8080/",
          "height": 17
        },
        "outputId": "e350ea02-c4e2-4195-9adb-4b4a5caa6db3"
      },
      "cell_type": "code",
      "source": [
        "model = Sequential()\n",
        "\n",
        "model.add(Conv2D(filters = 32, kernel_size = (10,10),padding = 'Same', \n",
        "                 activation ='relu', input_shape = (28,28,1)))\n",
        "model.add(Conv2D(filters = 32, kernel_size = (10,10),padding = 'Same', \n",
        "                 activation ='relu'))\n",
        "model.add(MaxPool2D(pool_size=(2,2)))\n",
        "model.add(Dropout(0.25))\n",
        "\n",
        "\n",
        "model.add(Conv2D(filters = 64, kernel_size = (5,5),padding = 'Same', \n",
        "                 activation ='relu'))\n",
        "model.add(Conv2D(filters = 64, kernel_size = (5,5),padding = 'Same', \n",
        "                 activation ='relu'))\n",
        "model.add(MaxPool2D(pool_size=(2,2), strides=(2,2)))\n",
        "model.add(Dropout(0.25))\n",
        "\n",
        "\n",
        "model.add(Conv2D(filters = 64, kernel_size = (3,3),padding = 'Same', \n",
        "                 activation ='relu'))\n",
        "model.add(Conv2D(filters = 64, kernel_size = (3,3),padding = 'Same', \n",
        "                 activation ='relu'))\n",
        "model.add(MaxPool2D(pool_size=(2,2), strides=(2,2)))\n",
        "model.add(Dropout(0.25))\n",
        "\n",
        "\n",
        "model.add(Flatten())\n",
        "model.add(Dense(256, activation = \"relu\"))\n",
        "model.add(Dropout(0.5))\n",
        "model.add(Dense(10, activation = \"softmax\"))"
      ],
      "execution_count": 9,
      "outputs": []
    },
    {
      "metadata": {
        "id": "AyzxeVztKz3W",
        "colab_type": "code",
        "colab": {
          "base_uri": "https://localhost:8080/",
          "height": 17
        },
        "outputId": "4932e451-1e4a-451f-b720-4f1144f6ba25"
      },
      "cell_type": "code",
      "source": [
        "optimizer = RMSprop(lr=0.001, rho=0.9, epsilon=1e-08, decay=0.0)\n",
        "model.compile(optimizer = optimizer , loss = \"categorical_crossentropy\", metrics=[\"accuracy\"])\n",
        "learning_rate_reduction = ReduceLROnPlateau(monitor='val_acc', \n",
        "                                            patience=3, \n",
        "                                            verbose=1, \n",
        "                                            factor=0.5, \n",
        "                                            min_lr=0.0000001)\n",
        "epochs = 50 # Turn epochs to 30 to get 0.9967 accuracy\n",
        "batch_size = 86"
      ],
      "execution_count": 10,
      "outputs": []
    },
    {
      "metadata": {
        "id": "MTsJ9gbOLkZl",
        "colab_type": "code",
        "colab": {
          "base_uri": "https://localhost:8080/",
          "height": 17
        },
        "outputId": "3e750ed3-5324-4def-a202-0befbf0d3202"
      },
      "cell_type": "code",
      "source": [
        "datagen = ImageDataGenerator(\n",
        "        featurewise_center=False,  # set input mean to 0 over the dataset\n",
        "        samplewise_center=False,  # set each sample mean to 0\n",
        "        featurewise_std_normalization=False,  # divide inputs by std of the dataset\n",
        "        samplewise_std_normalization=False,  # divide each input by its std\n",
        "        zca_whitening=False,  # apply ZCA whitening\n",
        "        rotation_range=10,  # randomly rotate images in the range (degrees, 0 to 180)\n",
        "        zoom_range = 0.1, # Randomly zoom image \n",
        "        width_shift_range=0.1,  # randomly shift images horizontally (fraction of total width)\n",
        "        height_shift_range=0.1,  # randomly shift images vertically (fraction of total height)\n",
        "        horizontal_flip=False,  # randomly flip images\n",
        "        vertical_flip=False)  # randomly flip images\n",
        "\n",
        "\n",
        "datagen.fit(X_train)"
      ],
      "execution_count": 11,
      "outputs": []
    },
    {
      "metadata": {
        "id": "R4p4yQfqLoQG",
        "colab_type": "code",
        "colab": {
          "base_uri": "https://localhost:8080/",
          "height": 2091
        },
        "outputId": "eb99a686-7699-4c6a-f907-9e13b3152f6d"
      },
      "cell_type": "code",
      "source": [
        "history = model.fit_generator(datagen.flow(X_train,Y_train, batch_size=batch_size),\n",
        "                              epochs = epochs, validation_data = (X_val,Y_val),\n",
        "                              verbose = 2, steps_per_epoch=X_train.shape[0] // batch_size\n",
        "                              , callbacks=[learning_rate_reduction])"
      ],
      "execution_count": 12,
      "outputs": [
        {
          "output_type": "stream",
          "text": [
            "Epoch 1/50\n",
            " - 24s - loss: 0.6120 - acc: 0.7984 - val_loss: 0.1563 - val_acc: 0.9619\n",
            "Epoch 2/50\n",
            " - 22s - loss: 0.1258 - acc: 0.9665 - val_loss: 0.0563 - val_acc: 0.9848\n",
            "Epoch 3/50\n",
            " - 22s - loss: 0.0942 - acc: 0.9743 - val_loss: 0.0451 - val_acc: 0.9893\n",
            "Epoch 4/50\n",
            " - 22s - loss: 0.0819 - acc: 0.9783 - val_loss: 0.0365 - val_acc: 0.9893\n",
            "Epoch 5/50\n",
            " - 22s - loss: 0.0748 - acc: 0.9809 - val_loss: 0.0552 - val_acc: 0.9876\n",
            "Epoch 6/50\n",
            " - 22s - loss: 0.0745 - acc: 0.9810 - val_loss: 0.0398 - val_acc: 0.9898\n",
            "Epoch 7/50\n",
            " - 22s - loss: 0.0766 - acc: 0.9816 - val_loss: 0.0850 - val_acc: 0.9852\n",
            "Epoch 8/50\n",
            " - 22s - loss: 0.0733 - acc: 0.9832 - val_loss: 0.0579 - val_acc: 0.9874\n",
            "Epoch 9/50\n",
            " - 22s - loss: 0.0736 - acc: 0.9834 - val_loss: 0.0427 - val_acc: 0.9917\n",
            "Epoch 10/50\n",
            " - 22s - loss: 0.0860 - acc: 0.9816 - val_loss: 0.0703 - val_acc: 0.9829\n",
            "Epoch 11/50\n",
            " - 22s - loss: 0.0845 - acc: 0.9828 - val_loss: 0.0445 - val_acc: 0.9900\n",
            "Epoch 12/50\n",
            " - 22s - loss: 0.0904 - acc: 0.9816 - val_loss: 0.0944 - val_acc: 0.9845\n",
            "\n",
            "Epoch 00012: ReduceLROnPlateau reducing learning rate to 0.0005000000237487257.\n",
            "Epoch 13/50\n",
            " - 22s - loss: 0.0628 - acc: 0.9870 - val_loss: 0.0398 - val_acc: 0.9912\n",
            "Epoch 14/50\n",
            " - 22s - loss: 0.0669 - acc: 0.9865 - val_loss: 0.0422 - val_acc: 0.9914\n",
            "Epoch 15/50\n",
            " - 22s - loss: 0.0666 - acc: 0.9873 - val_loss: 0.0611 - val_acc: 0.9898\n",
            "\n",
            "Epoch 00015: ReduceLROnPlateau reducing learning rate to 0.0002500000118743628.\n",
            "Epoch 16/50\n",
            " - 22s - loss: 0.0455 - acc: 0.9909 - val_loss: 0.0486 - val_acc: 0.9929\n",
            "Epoch 17/50\n",
            " - 22s - loss: 0.0512 - acc: 0.9908 - val_loss: 0.0438 - val_acc: 0.9933\n",
            "Epoch 18/50\n",
            " - 22s - loss: 0.0469 - acc: 0.9909 - val_loss: 0.0594 - val_acc: 0.9919\n",
            "Epoch 19/50\n",
            " - 22s - loss: 0.0483 - acc: 0.9913 - val_loss: 0.0470 - val_acc: 0.9933\n",
            "Epoch 20/50\n",
            " - 22s - loss: 0.0458 - acc: 0.9919 - val_loss: 0.0394 - val_acc: 0.9940\n",
            "Epoch 21/50\n",
            " - 22s - loss: 0.0477 - acc: 0.9908 - val_loss: 0.0388 - val_acc: 0.9936\n",
            "Epoch 22/50\n",
            " - 22s - loss: 0.0525 - acc: 0.9914 - val_loss: 0.0481 - val_acc: 0.9929\n",
            "Epoch 23/50\n",
            " - 22s - loss: 0.0513 - acc: 0.9900 - val_loss: 0.0665 - val_acc: 0.9936\n",
            "\n",
            "Epoch 00023: ReduceLROnPlateau reducing learning rate to 0.0001250000059371814.\n",
            "Epoch 24/50\n",
            " - 22s - loss: 0.0420 - acc: 0.9926 - val_loss: 0.0522 - val_acc: 0.9936\n",
            "Epoch 25/50\n",
            " - 22s - loss: 0.0444 - acc: 0.9927 - val_loss: 0.0614 - val_acc: 0.9914\n",
            "Epoch 26/50\n",
            " - 22s - loss: 0.0475 - acc: 0.9918 - val_loss: 0.0494 - val_acc: 0.9931\n",
            "\n",
            "Epoch 00026: ReduceLROnPlateau reducing learning rate to 6.25000029685907e-05.\n",
            "Epoch 27/50\n",
            " - 22s - loss: 0.0398 - acc: 0.9929 - val_loss: 0.0507 - val_acc: 0.9931\n",
            "Epoch 28/50\n",
            " - 22s - loss: 0.0391 - acc: 0.9927 - val_loss: 0.0391 - val_acc: 0.9940\n",
            "Epoch 29/50\n",
            " - 22s - loss: 0.0395 - acc: 0.9928 - val_loss: 0.0453 - val_acc: 0.9936\n",
            "\n",
            "Epoch 00029: ReduceLROnPlateau reducing learning rate to 3.125000148429535e-05.\n",
            "Epoch 30/50\n",
            " - 22s - loss: 0.0361 - acc: 0.9930 - val_loss: 0.0453 - val_acc: 0.9940\n",
            "Epoch 31/50\n",
            " - 22s - loss: 0.0351 - acc: 0.9931 - val_loss: 0.0454 - val_acc: 0.9943\n",
            "Epoch 32/50\n",
            " - 22s - loss: 0.0365 - acc: 0.9936 - val_loss: 0.0447 - val_acc: 0.9950\n",
            "Epoch 33/50\n"
          ],
          "name": "stdout"
        },
        {
          "output_type": "stream",
          "text": [
            " - 22s - loss: 0.0378 - acc: 0.9936 - val_loss: 0.0480 - val_acc: 0.9948\n",
            "Epoch 34/50\n",
            " - 22s - loss: 0.0350 - acc: 0.9940 - val_loss: 0.0398 - val_acc: 0.9943\n",
            "Epoch 35/50\n",
            " - 22s - loss: 0.0338 - acc: 0.9935 - val_loss: 0.0499 - val_acc: 0.9940\n",
            "\n",
            "Epoch 00035: ReduceLROnPlateau reducing learning rate to 1.5625000742147677e-05.\n",
            "Epoch 36/50\n",
            " - 22s - loss: 0.0352 - acc: 0.9940 - val_loss: 0.0501 - val_acc: 0.9938\n",
            "Epoch 37/50\n",
            " - 22s - loss: 0.0353 - acc: 0.9941 - val_loss: 0.0494 - val_acc: 0.9938\n",
            "Epoch 38/50\n",
            " - 22s - loss: 0.0358 - acc: 0.9941 - val_loss: 0.0540 - val_acc: 0.9933\n",
            "\n",
            "Epoch 00038: ReduceLROnPlateau reducing learning rate to 7.812500371073838e-06.\n",
            "Epoch 39/50\n",
            " - 22s - loss: 0.0359 - acc: 0.9939 - val_loss: 0.0499 - val_acc: 0.9940\n",
            "Epoch 40/50\n",
            " - 22s - loss: 0.0276 - acc: 0.9947 - val_loss: 0.0503 - val_acc: 0.9938\n",
            "Epoch 41/50\n",
            " - 22s - loss: 0.0336 - acc: 0.9941 - val_loss: 0.0501 - val_acc: 0.9938\n",
            "\n",
            "Epoch 00041: ReduceLROnPlateau reducing learning rate to 3.906250185536919e-06.\n",
            "Epoch 42/50\n",
            " - 22s - loss: 0.0322 - acc: 0.9937 - val_loss: 0.0502 - val_acc: 0.9940\n",
            "Epoch 43/50\n",
            " - 22s - loss: 0.0307 - acc: 0.9945 - val_loss: 0.0514 - val_acc: 0.9938\n",
            "Epoch 44/50\n",
            " - 22s - loss: 0.0381 - acc: 0.9934 - val_loss: 0.0497 - val_acc: 0.9940\n",
            "\n",
            "Epoch 00044: ReduceLROnPlateau reducing learning rate to 1.9531250927684596e-06.\n",
            "Epoch 45/50\n",
            " - 22s - loss: 0.0312 - acc: 0.9944 - val_loss: 0.0502 - val_acc: 0.9940\n",
            "Epoch 46/50\n",
            " - 22s - loss: 0.0364 - acc: 0.9936 - val_loss: 0.0501 - val_acc: 0.9940\n",
            "Epoch 47/50\n",
            " - 22s - loss: 0.0301 - acc: 0.9942 - val_loss: 0.0506 - val_acc: 0.9940\n",
            "\n",
            "Epoch 00047: ReduceLROnPlateau reducing learning rate to 9.765625463842298e-07.\n",
            "Epoch 48/50\n",
            " - 22s - loss: 0.0324 - acc: 0.9941 - val_loss: 0.0507 - val_acc: 0.9940\n",
            "Epoch 49/50\n",
            " - 22s - loss: 0.0320 - acc: 0.9938 - val_loss: 0.0506 - val_acc: 0.9940\n",
            "Epoch 50/50\n",
            " - 22s - loss: 0.0330 - acc: 0.9944 - val_loss: 0.0501 - val_acc: 0.9940\n",
            "\n",
            "Epoch 00050: ReduceLROnPlateau reducing learning rate to 4.882812731921149e-07.\n"
          ],
          "name": "stdout"
        }
      ]
    },
    {
      "metadata": {
        "id": "Su55nlM9LpeF",
        "colab_type": "code",
        "colab": {
          "base_uri": "https://localhost:8080/",
          "height": 347
        },
        "outputId": "0febc2c8-0e20-4f43-c39d-f37d247f0f92"
      },
      "cell_type": "code",
      "source": [
        "fig, ax = plt.subplots(2,1)\n",
        "ax[0].plot(history.history['loss'], color='b', label=\"Training loss\")\n",
        "ax[0].plot(history.history['val_loss'], color='r', label=\"validation loss\",axes =ax[0])\n",
        "legend = ax[0].legend(loc='best', shadow=True)\n",
        "\n",
        "ax[1].plot(history.history['acc'], color='b', label=\"Training accuracy\")\n",
        "ax[1].plot(history.history['val_acc'], color='r',label=\"Validation accuracy\")\n",
        "legend = ax[1].legend(loc='best', shadow=True)"
      ],
      "execution_count": 13,
      "outputs": [
        {
          "output_type": "display_data",
          "data": {
            "image/png": "[encoded data removed]",
            "text/plain": [
              "<matplotlib.figure.Figure at 0x7f789490a390>"
            ]
          },
          "metadata": {
            "tags": []
          }
        }
      ]
    },
    {
      "metadata": {
        "id": "RQrpIA5RMaCG",
        "colab_type": "code",
        "colab": {
          "base_uri": "https://localhost:8080/",
          "height": 2261
        },
        "outputId": "86f8d11a-6ff5-466e-dfc1-fb44f5498dcb"
      },
      "cell_type": "code",
      "source": [
        "history = model.fit_generator(datagen.flow(X_train,Y_train, batch_size=batch_size),\n",
        "                              epochs = epochs, validation_data = (X_val,Y_val),\n",
        "                              verbose = 2, steps_per_epoch=X_train.shape[0] // batch_size\n",
        "                              , callbacks=[learning_rate_reduction])"
      ],
      "execution_count": 14,
      "outputs": [
        {
          "output_type": "stream",
          "text": [
            "Epoch 1/50\n",
            " - 22s - loss: 0.0334 - acc: 0.9941 - val_loss: 0.0500 - val_acc: 0.9940\n",
            "Epoch 2/50\n",
            " - 22s - loss: 0.0371 - acc: 0.9935 - val_loss: 0.0498 - val_acc: 0.9940\n",
            "Epoch 3/50\n",
            " - 22s - loss: 0.0351 - acc: 0.9938 - val_loss: 0.0498 - val_acc: 0.9940\n",
            "Epoch 4/50\n",
            " - 22s - loss: 0.0343 - acc: 0.9943 - val_loss: 0.0498 - val_acc: 0.9940\n",
            "\n",
            "Epoch 00004: ReduceLROnPlateau reducing learning rate to 2.4414063659605745e-07.\n",
            "Epoch 5/50\n",
            " - 22s - loss: 0.0343 - acc: 0.9943 - val_loss: 0.0498 - val_acc: 0.9940\n",
            "Epoch 6/50\n",
            " - 22s - loss: 0.0338 - acc: 0.9938 - val_loss: 0.0498 - val_acc: 0.9940\n",
            "Epoch 7/50\n",
            " - 22s - loss: 0.0369 - acc: 0.9938 - val_loss: 0.0499 - val_acc: 0.9940\n",
            "\n",
            "Epoch 00007: ReduceLROnPlateau reducing learning rate to 1.2207031829802872e-07.\n",
            "Epoch 8/50\n",
            " - 22s - loss: 0.0353 - acc: 0.9943 - val_loss: 0.0499 - val_acc: 0.9940\n",
            "Epoch 9/50\n",
            " - 22s - loss: 0.0317 - acc: 0.9942 - val_loss: 0.0500 - val_acc: 0.9940\n",
            "Epoch 10/50\n",
            " - 22s - loss: 0.0358 - acc: 0.9938 - val_loss: 0.0500 - val_acc: 0.9940\n",
            "\n",
            "Epoch 00010: ReduceLROnPlateau reducing learning rate to 1e-07.\n",
            "Epoch 11/50\n",
            " - 22s - loss: 0.0339 - acc: 0.9943 - val_loss: 0.0500 - val_acc: 0.9940\n",
            "Epoch 12/50\n",
            " - 22s - loss: 0.0310 - acc: 0.9943 - val_loss: 0.0500 - val_acc: 0.9940\n",
            "Epoch 13/50\n",
            " - 22s - loss: 0.0374 - acc: 0.9937 - val_loss: 0.0500 - val_acc: 0.9940\n",
            "\n",
            "Epoch 00013: ReduceLROnPlateau reducing learning rate to 1e-07.\n",
            "Epoch 14/50\n",
            " - 22s - loss: 0.0346 - acc: 0.9934 - val_loss: 0.0499 - val_acc: 0.9940\n",
            "Epoch 15/50\n",
            " - 22s - loss: 0.0332 - acc: 0.9944 - val_loss: 0.0500 - val_acc: 0.9940\n",
            "Epoch 16/50\n",
            " - 22s - loss: 0.0357 - acc: 0.9938 - val_loss: 0.0500 - val_acc: 0.9940\n",
            "\n",
            "Epoch 00016: ReduceLROnPlateau reducing learning rate to 1e-07.\n",
            "Epoch 17/50\n",
            " - 22s - loss: 0.0393 - acc: 0.9935 - val_loss: 0.0500 - val_acc: 0.9940\n",
            "Epoch 18/50\n",
            " - 22s - loss: 0.0332 - acc: 0.9940 - val_loss: 0.0499 - val_acc: 0.9940\n",
            "Epoch 19/50\n",
            " - 22s - loss: 0.0371 - acc: 0.9934 - val_loss: 0.0499 - val_acc: 0.9940\n",
            "\n",
            "Epoch 00019: ReduceLROnPlateau reducing learning rate to 1e-07.\n",
            "Epoch 20/50\n",
            " - 22s - loss: 0.0373 - acc: 0.9938 - val_loss: 0.0499 - val_acc: 0.9940\n",
            "Epoch 21/50\n",
            " - 22s - loss: 0.0310 - acc: 0.9943 - val_loss: 0.0500 - val_acc: 0.9940\n",
            "Epoch 22/50\n",
            " - 22s - loss: 0.0326 - acc: 0.9943 - val_loss: 0.0500 - val_acc: 0.9940\n",
            "\n",
            "Epoch 00022: ReduceLROnPlateau reducing learning rate to 1e-07.\n",
            "Epoch 23/50\n",
            " - 22s - loss: 0.0351 - acc: 0.9937 - val_loss: 0.0500 - val_acc: 0.9940\n",
            "Epoch 24/50\n",
            " - 22s - loss: 0.0338 - acc: 0.9940 - val_loss: 0.0500 - val_acc: 0.9940\n",
            "Epoch 25/50\n",
            " - 22s - loss: 0.0317 - acc: 0.9946 - val_loss: 0.0500 - val_acc: 0.9940\n",
            "\n",
            "Epoch 00025: ReduceLROnPlateau reducing learning rate to 1e-07.\n",
            "Epoch 26/50\n",
            " - 22s - loss: 0.0345 - acc: 0.9935 - val_loss: 0.0500 - val_acc: 0.9940\n",
            "Epoch 27/50\n",
            " - 22s - loss: 0.0333 - acc: 0.9944 - val_loss: 0.0500 - val_acc: 0.9940\n",
            "Epoch 28/50\n",
            " - 22s - loss: 0.0345 - acc: 0.9940 - val_loss: 0.0500 - val_acc: 0.9940\n",
            "\n",
            "Epoch 00028: ReduceLROnPlateau reducing learning rate to 1e-07.\n",
            "Epoch 29/50\n",
            " - 22s - loss: 0.0335 - acc: 0.9941 - val_loss: 0.0500 - val_acc: 0.9940\n",
            "Epoch 30/50\n",
            " - 22s - loss: 0.0359 - acc: 0.9938 - val_loss: 0.0500 - val_acc: 0.9940\n",
            "Epoch 31/50\n"
          ],
          "name": "stdout"
        },
        {
          "output_type": "stream",
          "text": [
            " - 22s - loss: 0.0346 - acc: 0.9944 - val_loss: 0.0500 - val_acc: 0.9940\n",
            "\n",
            "Epoch 00031: ReduceLROnPlateau reducing learning rate to 1e-07.\n",
            "Epoch 32/50\n",
            " - 22s - loss: 0.0325 - acc: 0.9942 - val_loss: 0.0500 - val_acc: 0.9940\n",
            "Epoch 33/50\n",
            " - 22s - loss: 0.0317 - acc: 0.9944 - val_loss: 0.0500 - val_acc: 0.9940\n",
            "Epoch 34/50\n",
            " - 22s - loss: 0.0335 - acc: 0.9943 - val_loss: 0.0500 - val_acc: 0.9940\n",
            "\n",
            "Epoch 00034: ReduceLROnPlateau reducing learning rate to 1e-07.\n",
            "Epoch 35/50\n",
            " - 22s - loss: 0.0337 - acc: 0.9935 - val_loss: 0.0500 - val_acc: 0.9940\n",
            "Epoch 36/50\n",
            " - 22s - loss: 0.0349 - acc: 0.9941 - val_loss: 0.0500 - val_acc: 0.9940\n",
            "Epoch 37/50\n",
            " - 22s - loss: 0.0389 - acc: 0.9936 - val_loss: 0.0500 - val_acc: 0.9940\n",
            "\n",
            "Epoch 00037: ReduceLROnPlateau reducing learning rate to 1e-07.\n",
            "Epoch 38/50\n",
            " - 22s - loss: 0.0315 - acc: 0.9944 - val_loss: 0.0500 - val_acc: 0.9940\n",
            "Epoch 39/50\n",
            " - 22s - loss: 0.0355 - acc: 0.9940 - val_loss: 0.0500 - val_acc: 0.9940\n",
            "Epoch 40/50\n",
            " - 22s - loss: 0.0323 - acc: 0.9942 - val_loss: 0.0500 - val_acc: 0.9940\n",
            "\n",
            "Epoch 00040: ReduceLROnPlateau reducing learning rate to 1e-07.\n",
            "Epoch 41/50\n",
            " - 22s - loss: 0.0367 - acc: 0.9936 - val_loss: 0.0501 - val_acc: 0.9940\n",
            "Epoch 42/50\n",
            " - 22s - loss: 0.0371 - acc: 0.9942 - val_loss: 0.0501 - val_acc: 0.9940\n",
            "Epoch 43/50\n",
            " - 22s - loss: 0.0349 - acc: 0.9932 - val_loss: 0.0501 - val_acc: 0.9940\n",
            "\n",
            "Epoch 00043: ReduceLROnPlateau reducing learning rate to 1e-07.\n",
            "Epoch 44/50\n",
            " - 22s - loss: 0.0306 - acc: 0.9941 - val_loss: 0.0501 - val_acc: 0.9940\n",
            "Epoch 45/50\n",
            " - 22s - loss: 0.0350 - acc: 0.9936 - val_loss: 0.0501 - val_acc: 0.9940\n",
            "Epoch 46/50\n",
            " - 22s - loss: 0.0346 - acc: 0.9939 - val_loss: 0.0501 - val_acc: 0.9940\n",
            "\n",
            "Epoch 00046: ReduceLROnPlateau reducing learning rate to 1e-07.\n",
            "Epoch 47/50\n",
            " - 22s - loss: 0.0317 - acc: 0.9946 - val_loss: 0.0501 - val_acc: 0.9940\n",
            "Epoch 48/50\n",
            " - 22s - loss: 0.0395 - acc: 0.9935 - val_loss: 0.0501 - val_acc: 0.9940\n",
            "Epoch 49/50\n",
            " - 22s - loss: 0.0335 - acc: 0.9939 - val_loss: 0.0501 - val_acc: 0.9940\n",
            "\n",
            "Epoch 00049: ReduceLROnPlateau reducing learning rate to 1e-07.\n",
            "Epoch 50/50\n",
            " - 22s - loss: 0.0347 - acc: 0.9941 - val_loss: 0.0501 - val_acc: 0.9940\n"
          ],
          "name": "stdout"
        }
      ]
    },
    {
      "metadata": {
        "id": "J3gwm2RWh2qQ",
        "colab_type": "code",
        "colab": {
          "base_uri": "https://localhost:8080/",
          "height": 415
        },
        "outputId": "a8e54ec0-2561-4892-af52-8c6054fc0529"
      },
      "cell_type": "code",
      "source": [
        "def plot_confusion_matrix(cm, classes,\n",
        "                          normalize=False,\n",
        "                          title='Confusion matrix',\n",
        "                          cmap=plt.cm.Blues):\n",
        "    \"\"\"\n",
        "    This function prints and plots the confusion matrix.\n",
        "    Normalization can be applied by setting `normalize=True`.\n",
        "    \"\"\"\n",
        "    plt.imshow(cm, interpolation='nearest', cmap=cmap)\n",
        "    plt.title(title)\n",
        "    plt.colorbar()\n",
        "    tick_marks = np.arange(len(classes))\n",
        "    plt.xticks(tick_marks, classes, rotation=45)\n",
        "    plt.yticks(tick_marks, classes)\n",
        "\n",
        "    if normalize:\n",
        "        cm = cm.astype('float') / cm.sum(axis=1)[:, np.newaxis]\n",
        "\n",
        "    thresh = cm.max() / 2.\n",
        "    for i, j in itertools.product(range(cm.shape[0]), range(cm.shape[1])):\n",
        "        plt.text(j, i, cm[i, j],\n",
        "                 horizontalalignment=\"center\",\n",
        "                 color=\"white\" if cm[i, j] > thresh else \"black\")\n",
        "\n",
        "    plt.tight_layout()\n",
        "    plt.ylabel('True label')\n",
        "    plt.xlabel('Predicted label')\n",
        "\n",
        "# Predict the values from the validation dataset\n",
        "Y_pred = model.predict(X_val)\n",
        "# Convert predictions classes to one hot vectors \n",
        "Y_pred_classes = np.argmax(Y_pred,axis = 1) \n",
        "# Convert validation observations to one hot vectors\n",
        "Y_true = np.argmax(Y_val,axis = 1) \n",
        "# compute the confusion matrix\n",
        "confusion_mtx = confusion_matrix(Y_true, Y_pred_classes) \n",
        "# plot the confusion matrix\n",
        "plot_confusion_matrix(confusion_mtx, classes = range(10)) "
      ],
      "execution_count": 15,
      "outputs": [
        {
          "output_type": "display_data",
          "data": {
            "image/png": "[encoded data removed]",
            "text/plain": [
              "<matplotlib.figure.Figure at 0x7f789ba31828>"
            ]
          },
          "metadata": {
            "tags": []
          }
        }
      ]
    },
    {
      "metadata": {
        "id": "KsaJ3WH3iHhZ",
        "colab_type": "code",
        "colab": {
          "base_uri": "https://localhost:8080/",
          "height": 376
        },
        "outputId": "56007e68-2a54-40ef-ac10-e5b6a42d896a"
      },
      "cell_type": "code",
      "source": [
        "# Display some error results \n",
        "\n",
        "# Errors are difference between predicted labels and true labels\n",
        "errors = (Y_pred_classes - Y_true != 0)\n",
        "\n",
        "Y_pred_classes_errors = Y_pred_classes[errors]\n",
        "Y_pred_errors = Y_pred[errors]\n",
        "Y_true_errors = Y_true[errors]\n",
        "X_val_errors = X_val[errors]\n",
        "\n",
        "def display_errors(errors_index,img_errors,pred_errors, obs_errors):\n",
        "    \"\"\" This function shows 6 images with their predicted and real labels\"\"\"\n",
        "    n = 0\n",
        "    nrows = 2\n",
        "    ncols = 3\n",
        "    fig, ax = plt.subplots(nrows,ncols,sharex=True,sharey=True)\n",
        "    for row in range(nrows):\n",
        "        for col in range(ncols):\n",
        "            error = errors_index[n]\n",
        "            ax[row,col].imshow((img_errors[error]).reshape((28,28)))\n",
        "            ax[row,col].set_title(\"Predicted label :{}\\nTrue label :{}\".format(pred_errors[error],obs_errors[error]))\n",
        "            n += 1\n",
        "\n",
        "# Probabilities of the wrong predicted numbers\n",
        "Y_pred_errors_prob = np.max(Y_pred_errors,axis = 1)\n",
        "\n",
        "# Predicted probabilities of the true values in the error set\n",
        "true_prob_errors = np.diagonal(np.take(Y_pred_errors, Y_true_errors, axis=1))\n",
        "\n",
        "# Difference between the probability of the predicted label and the true label\n",
        "delta_pred_true_errors = Y_pred_errors_prob - true_prob_errors\n",
        "\n",
        "# Sorted list of the delta prob errors\n",
        "sorted_dela_errors = np.argsort(delta_pred_true_errors)\n",
        "\n",
        "# Top 6 errors \n",
        "most_important_errors = sorted_dela_errors[-6:]\n",
        "\n",
        "# Show the top 6 errors\n",
        "display_errors(most_important_errors, X_val_errors, Y_pred_classes_errors, Y_true_errors)"
      ],
      "execution_count": 16,
      "outputs": [
        {
          "output_type": "display_data",
          "data": {
            "image/png": "[encoded data removed]",
            "text/plain": [
              "<matplotlib.figure.Figure at 0x7f789ea58c88>"
            ]
          },
          "metadata": {
            "tags": []
          }
        }
      ]
    },
    {
      "metadata": {
        "id": "WcIsIGYWmkth",
        "colab_type": "code",
        "colab": {
          "base_uri": "https://localhost:8080/",
          "height": 17
        },
        "outputId": "86d48e67-50f9-48d1-b379-00f7debf3e27"
      },
      "cell_type": "code",
      "source": [
        "# predict results\n",
        "results = model.predict(test)\n",
        "\n",
        "# select the indix with the maximum probability\n",
        "results = np.argmax(results,axis = 1)\n",
        "\n",
        "results = pd.Series(results,name=\"Label\")\n",
        "\n",
        "submission = pd.concat([pd.Series(range(1,28001),name = \"ImageId\"),results],axis = 1)\n",
        "\n",
        "submission.to_csv(\"cnn_mnist_datagen.csv\",index=False)"
      ],
      "execution_count": 17,
      "outputs": []
    },
    {
      "metadata": {
        "id": "uIM0K1fwvNZD",
        "colab_type": "code",
        "colab": {
          "base_uri": "https://localhost:8080/",
          "height": 17
        },
        "outputId": "189ea6ab-cec7-43e9-e33a-866c65abac10"
      },
      "cell_type": "code",
      "source": [
        "from google.colab import files\n",
        "files.download('cnn_mnist_datagen.csv') "
      ],
      "execution_count": 18,
      "outputs": []
    },
    {
      "metadata": {
        "id": "OLEjxQfcArMx",
        "colab_type": "code",
        "colab": {
          "base_uri": "https://localhost:8080/",
          "height": 1615
        },
        "outputId": "622e2b61-5457-4d3a-c436-5c62e6dce0cb"
      },
      "cell_type": "code",
      "source": [
        "history = model.fit_generator(datagen.flow(X_train,Y_train, batch_size=batch_size),\n",
        "                              epochs = epochs, validation_data = (X_val,Y_val),\n",
        "                              verbose = 2, steps_per_epoch=X_train.shape[0] // batch_size\n",
        "                              , callbacks=[learning_rate_reduction])"
      ],
      "execution_count": 0,
      "outputs": [
        {
          "output_type": "stream",
          "text": [
            "Epoch 1/50\n",
            " - 22s - loss: 0.0346 - acc: 0.9940 - val_loss: 0.0501 - val_acc: 0.9940\n",
            "Epoch 2/50\n",
            " - 22s - loss: 0.0324 - acc: 0.9940 - val_loss: 0.0501 - val_acc: 0.9940\n",
            "Epoch 3/50\n",
            " - 22s - loss: 0.0351 - acc: 0.9938 - val_loss: 0.0501 - val_acc: 0.9940\n",
            "Epoch 4/50\n",
            " - 22s - loss: 0.0304 - acc: 0.9943 - val_loss: 0.0501 - val_acc: 0.9940\n",
            "\n",
            "Epoch 00004: ReduceLROnPlateau reducing learning rate to 1e-07.\n",
            "Epoch 5/50\n",
            " - 22s - loss: 0.0358 - acc: 0.9942 - val_loss: 0.0501 - val_acc: 0.9940\n",
            "Epoch 6/50\n",
            " - 22s - loss: 0.0346 - acc: 0.9943 - val_loss: 0.0501 - val_acc: 0.9940\n",
            "Epoch 7/50\n",
            " - 22s - loss: 0.0356 - acc: 0.9940 - val_loss: 0.0501 - val_acc: 0.9940\n",
            "\n",
            "Epoch 00007: ReduceLROnPlateau reducing learning rate to 1e-07.\n",
            "Epoch 8/50\n",
            " - 22s - loss: 0.0327 - acc: 0.9943 - val_loss: 0.0501 - val_acc: 0.9940\n",
            "Epoch 9/50\n",
            " - 22s - loss: 0.0378 - acc: 0.9940 - val_loss: 0.0501 - val_acc: 0.9940\n",
            "Epoch 10/50\n",
            " - 22s - loss: 0.0362 - acc: 0.9942 - val_loss: 0.0501 - val_acc: 0.9940\n",
            "\n",
            "Epoch 00010: ReduceLROnPlateau reducing learning rate to 1e-07.\n",
            "Epoch 11/50\n",
            " - 22s - loss: 0.0372 - acc: 0.9934 - val_loss: 0.0501 - val_acc: 0.9940\n",
            "Epoch 12/50\n",
            " - 22s - loss: 0.0296 - acc: 0.9939 - val_loss: 0.0502 - val_acc: 0.9940\n",
            "Epoch 13/50\n",
            " - 22s - loss: 0.0326 - acc: 0.9938 - val_loss: 0.0502 - val_acc: 0.9940\n",
            "\n",
            "Epoch 00013: ReduceLROnPlateau reducing learning rate to 1e-07.\n",
            "Epoch 14/50\n",
            " - 22s - loss: 0.0301 - acc: 0.9944 - val_loss: 0.0502 - val_acc: 0.9940\n",
            "Epoch 15/50\n",
            " - 22s - loss: 0.0355 - acc: 0.9936 - val_loss: 0.0501 - val_acc: 0.9940\n",
            "Epoch 16/50\n",
            " - 22s - loss: 0.0351 - acc: 0.9941 - val_loss: 0.0501 - val_acc: 0.9940\n",
            "\n",
            "Epoch 00016: ReduceLROnPlateau reducing learning rate to 1e-07.\n",
            "Epoch 17/50\n",
            " - 22s - loss: 0.0354 - acc: 0.9937 - val_loss: 0.0501 - val_acc: 0.9940\n",
            "Epoch 18/50\n",
            " - 22s - loss: 0.0375 - acc: 0.9937 - val_loss: 0.0501 - val_acc: 0.9940\n",
            "Epoch 19/50\n",
            " - 22s - loss: 0.0328 - acc: 0.9943 - val_loss: 0.0501 - val_acc: 0.9940\n",
            "\n",
            "Epoch 00019: ReduceLROnPlateau reducing learning rate to 1e-07.\n",
            "Epoch 20/50\n",
            " - 22s - loss: 0.0341 - acc: 0.9941 - val_loss: 0.0501 - val_acc: 0.9940\n",
            "Epoch 21/50\n",
            " - 22s - loss: 0.0323 - acc: 0.9944 - val_loss: 0.0501 - val_acc: 0.9940\n",
            "Epoch 22/50\n",
            " - 22s - loss: 0.0308 - acc: 0.9945 - val_loss: 0.0501 - val_acc: 0.9940\n",
            "\n",
            "Epoch 00022: ReduceLROnPlateau reducing learning rate to 1e-07.\n",
            "Epoch 23/50\n",
            " - 22s - loss: 0.0371 - acc: 0.9936 - val_loss: 0.0501 - val_acc: 0.9940\n",
            "Epoch 24/50\n",
            " - 22s - loss: 0.0332 - acc: 0.9940 - val_loss: 0.0501 - val_acc: 0.9940\n",
            "Epoch 25/50\n",
            " - 22s - loss: 0.0327 - acc: 0.9944 - val_loss: 0.0502 - val_acc: 0.9940\n",
            "\n",
            "Epoch 00025: ReduceLROnPlateau reducing learning rate to 1e-07.\n",
            "Epoch 26/50\n",
            " - 22s - loss: 0.0356 - acc: 0.9944 - val_loss: 0.0502 - val_acc: 0.9940\n",
            "Epoch 27/50\n",
            " - 22s - loss: 0.0334 - acc: 0.9939 - val_loss: 0.0502 - val_acc: 0.9940\n",
            "Epoch 28/50\n",
            " - 22s - loss: 0.0352 - acc: 0.9945 - val_loss: 0.0503 - val_acc: 0.9940\n",
            "\n",
            "Epoch 00028: ReduceLROnPlateau reducing learning rate to 1e-07.\n",
            "Epoch 29/50\n",
            " - 22s - loss: 0.0355 - acc: 0.9939 - val_loss: 0.0502 - val_acc: 0.9940\n",
            "Epoch 30/50\n",
            " - 22s - loss: 0.0317 - acc: 0.9940 - val_loss: 0.0502 - val_acc: 0.9940\n",
            "Epoch 31/50\n",
            " - 22s - loss: 0.0335 - acc: 0.9936 - val_loss: 0.0503 - val_acc: 0.9940\n"
          ],
          "name": "stdout"
        },
        {
          "output_type": "stream",
          "text": [
            "\n",
            "Epoch 00031: ReduceLROnPlateau reducing learning rate to 1e-07.\n",
            "Epoch 32/50\n",
            " - 22s - loss: 0.0322 - acc: 0.9941 - val_loss: 0.0503 - val_acc: 0.9940\n",
            "Epoch 33/50\n",
            " - 22s - loss: 0.0375 - acc: 0.9939 - val_loss: 0.0503 - val_acc: 0.9940\n",
            "Epoch 34/50\n",
            " - 22s - loss: 0.0377 - acc: 0.9938 - val_loss: 0.0503 - val_acc: 0.9940\n",
            "\n",
            "Epoch 00034: ReduceLROnPlateau reducing learning rate to 1e-07.\n",
            "Epoch 35/50\n",
            " - 22s - loss: 0.0339 - acc: 0.9947 - val_loss: 0.0503 - val_acc: 0.9940\n",
            "Epoch 36/50\n",
            " - 22s - loss: 0.0324 - acc: 0.9945 - val_loss: 0.0503 - val_acc: 0.9940\n"
          ],
          "name": "stdout"
        }
      ]
    },
    {
      "metadata": {
        "id": "bfDVkMwtSU48",
        "colab_type": "code",
        "colab": {}
      },
      "cell_type": "code",
      "source": [
        "fig, ax = plt.subplots(2,1)\n",
        "ax[0].plot(history.history['loss'], color='b', label=\"Training loss\")\n",
        "ax[0].plot(history.history['val_loss'], color='r', label=\"validation loss\",axes =ax[0])\n",
        "legend = ax[0].legend(loc='best', shadow=True)\n",
        "\n",
        "ax[1].plot(history.history['acc'], color='b', label=\"Training accuracy\")\n",
        "ax[1].plot(history.history['val_acc'], color='r',label=\"Validation accuracy\")\n",
        "legend = ax[1].legend(loc='best', shadow=True)"
      ],
      "execution_count": 0,
      "outputs": []
    }
  ]
}