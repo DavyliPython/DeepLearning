{
  "nbformat": 4,
  "nbformat_minor": 0,
  "metadata": {
    "colab": {
      "name": "DigitRe2.ipynb",
      "version": "0.3.2",
      "provenance": [],
      "collapsed_sections": [],
      "include_colab_link": true
    },
    "kernelspec": {
      "name": "python3",
      "display_name": "Python 3"
    },
    "accelerator": "GPU"
  },
  "cells": [
    {
      "cell_type": "markdown",
      "metadata": {
        "id": "view-in-github",
        "colab_type": "text"
      },
      "source": [
        "[View in Colaboratory](https://colab.research.google.com/github/DavyliPython/DeepLearning/blob/master/DigitRe2.ipynb)"
      ]
    },
    {
      "metadata": {
        "id": "_vRniBAK-IX7",
        "colab_type": "code",
        "colab": {
          "base_uri": "https://localhost:8080/",
          "height": 34
        },
        "outputId": "34638dfc-4a14-4591-c562-c1965f5a0933"
      },
      "cell_type": "code",
      "source": [
        "import pandas as pd\n",
        "import numpy as np\n",
        "import matplotlib.pyplot as plt\n",
        "import matplotlib.image as mpimg\n",
        "import seaborn as sns\n",
        "%matplotlib inline\n",
        "\n",
        "np.random.seed(2)\n",
        "\n",
        "from sklearn.model_selection import train_test_split\n",
        "from sklearn.metrics import confusion_matrix\n",
        "import itertools\n",
        "\n",
        "from keras.utils.np_utils import to_categorical # convert to one-hot-encoding\n",
        "from keras.models import Sequential\n",
        "from keras.layers import Dense, Dropout, Flatten, Conv2D, MaxPool2D\n",
        "from keras.optimizers import RMSprop\n",
        "from keras.preprocessing.image import ImageDataGenerator\n",
        "from keras.callbacks import ReduceLROnPlateau"
      ],
      "execution_count": 0,
      "outputs": [
        {
          "output_type": "stream",
          "text": [
            "Using TensorFlow backend.\n"
          ],
          "name": "stderr"
        }
      ]
    },
    {
      "metadata": {
        "id": "_C6t5HCw-dCi",
        "colab_type": "code",
        "colab": {}
      },
      "cell_type": "code",
      "source": [
        "sns.set(style='white', context='notebook', palette='deep')"
      ],
      "execution_count": 0,
      "outputs": []
    },
    {
      "metadata": {
        "id": "1ra_viAd-nA_",
        "colab_type": "code",
        "colab": {
          "base_uri": "https://localhost:8080/",
          "height": 440
        },
        "outputId": "ad7607df-316e-4300-dabf-23da28d2b1d0"
      },
      "cell_type": "code",
      "source": [
        "!pip install kaggle_cli\n",
        "!kg download -u sheman2001 -p 35433011 -c digit-recognizer -f train.csv\n",
        "!kg download -u sheman2001 -p 35433011 -c digit-recognizer -f test.csv"
      ],
      "execution_count": 0,
      "outputs": [
        {
          "output_type": "stream",
          "text": [
            "Requirement already satisfied: kaggle_cli in /usr/local/lib/python3.6/dist-packages (0.12.13)\r\n",
            "Requirement already satisfied: MechanicalSoup<0.9,>=0.7.0 in /usr/local/lib/python3.6/dist-packages (from kaggle_cli) (0.8.0)\n",
            "Requirement already satisfied: cssselect<1.1,>=1.0.1 in /usr/local/lib/python3.6/dist-packages (from kaggle_cli) (1.0.3)\n",
            "Requirement already satisfied: beautifulsoup4<4.7,>=4.6.0 in /usr/local/lib/python3.6/dist-packages (from kaggle_cli) (4.6.0)\n",
            "Requirement already satisfied: cliff<2.9,>=2.8.0 in /usr/local/lib/python3.6/dist-packages (from kaggle_cli) (2.8.1)\n",
            "Requirement already satisfied: configparser in /usr/local/lib/python3.6/dist-packages (from kaggle_cli) (3.5.0)\n",
            "Requirement already satisfied: lxml<4.1,>=4.0.0 in /usr/local/lib/python3.6/dist-packages (from kaggle_cli) (4.0.0)\n",
            "Requirement already satisfied: progressbar2<3.35,>=3.34.3 in /usr/local/lib/python3.6/dist-packages (from kaggle_cli) (3.34.3)\n",
            "Requirement already satisfied: requests>=2.0 in /usr/local/lib/python3.6/dist-packages (from MechanicalSoup<0.9,>=0.7.0->kaggle_cli) (2.18.4)\n",
            "Requirement already satisfied: six>=1.4 in /usr/local/lib/python3.6/dist-packages (from MechanicalSoup<0.9,>=0.7.0->kaggle_cli) (1.11.0)\n",
            "Requirement already satisfied: pyparsing>=2.1.0 in /usr/local/lib/python3.6/dist-packages (from cliff<2.9,>=2.8.0->kaggle_cli) (2.2.0)\n",
            "Requirement already satisfied: stevedore>=1.20.0 in /usr/local/lib/python3.6/dist-packages (from cliff<2.9,>=2.8.0->kaggle_cli) (1.28.0)\n",
            "Requirement already satisfied: pbr!=2.1.0,>=2.0.0 in /usr/local/lib/python3.6/dist-packages (from cliff<2.9,>=2.8.0->kaggle_cli) (4.0.4)\n",
            "Requirement already satisfied: PyYAML>=3.10.0 in /usr/local/lib/python3.6/dist-packages (from cliff<2.9,>=2.8.0->kaggle_cli) (3.12)\n",
            "Requirement already satisfied: PrettyTable<0.8,>=0.7.1 in /usr/local/lib/python3.6/dist-packages (from cliff<2.9,>=2.8.0->kaggle_cli) (0.7.2)\n",
            "Requirement already satisfied: cmd2>=0.6.7 in /usr/local/lib/python3.6/dist-packages (from cliff<2.9,>=2.8.0->kaggle_cli) (0.9.1)\n",
            "Requirement already satisfied: python-utils>=2.1.0 in /usr/local/lib/python3.6/dist-packages (from progressbar2<3.35,>=3.34.3->kaggle_cli) (2.3.0)\n",
            "Requirement already satisfied: idna<2.7,>=2.5 in /usr/local/lib/python3.6/dist-packages (from requests>=2.0->MechanicalSoup<0.9,>=0.7.0->kaggle_cli) (2.6)\n",
            "Requirement already satisfied: certifi>=2017.4.17 in /usr/local/lib/python3.6/dist-packages (from requests>=2.0->MechanicalSoup<0.9,>=0.7.0->kaggle_cli) (2018.4.16)\n",
            "Requirement already satisfied: urllib3<1.23,>=1.21.1 in /usr/local/lib/python3.6/dist-packages (from requests>=2.0->MechanicalSoup<0.9,>=0.7.0->kaggle_cli) (1.22)\n",
            "Requirement already satisfied: chardet<3.1.0,>=3.0.2 in /usr/local/lib/python3.6/dist-packages (from requests>=2.0->MechanicalSoup<0.9,>=0.7.0->kaggle_cli) (3.0.4)\n",
            "Requirement already satisfied: wcwidth; sys_platform != \"win32\" in /usr/local/lib/python3.6/dist-packages (from cmd2>=0.6.7->cliff<2.9,>=2.8.0->kaggle_cli) (0.1.7)\n",
            "Requirement already satisfied: colorama in /usr/local/lib/python3.6/dist-packages (from cmd2>=0.6.7->cliff<2.9,>=2.8.0->kaggle_cli) (0.3.9)\n",
            "Requirement already satisfied: pyperclip>=1.5.27 in /usr/local/lib/python3.6/dist-packages (from cmd2>=0.6.7->cliff<2.9,>=2.8.0->kaggle_cli) (1.6.2)\n"
          ],
          "name": "stdout"
        }
      ]
    },
    {
      "metadata": {
        "id": "HwYPSTRhBDc_",
        "colab_type": "code",
        "colab": {}
      },
      "cell_type": "code",
      "source": [
        "train = pd.read_csv(\"train.csv\")\n",
        "test = pd.read_csv(\"test.csv\")"
      ],
      "execution_count": 0,
      "outputs": []
    },
    {
      "metadata": {
        "id": "SvuYItp2BdEU",
        "colab_type": "code",
        "colab": {
          "base_uri": "https://localhost:8080/",
          "height": 34
        },
        "outputId": "ceb2ea93-734e-414f-f845-25d0148f9c39"
      },
      "cell_type": "code",
      "source": [
        "!dir"
      ],
      "execution_count": 0,
      "outputs": [
        {
          "output_type": "stream",
          "text": [
            "cnn_mnist_datagen.csv  datalab\ttest.csv  train.csv\r\n"
          ],
          "name": "stdout"
        }
      ]
    },
    {
      "metadata": {
        "id": "cZPhdkXEBaMY",
        "colab_type": "code",
        "colab": {
          "base_uri": "https://localhost:8080/",
          "height": 599
        },
        "outputId": "fccd68fc-5a93-4ddd-b8e4-01c1e780bacf"
      },
      "cell_type": "code",
      "source": [
        "Y_train = train[\"label\"]\n",
        "\n",
        "# Drop 'label' column\n",
        "X_train = train.drop(labels = [\"label\"],axis = 1) \n",
        "\n",
        "# free some space\n",
        "del train \n",
        "\n",
        "g = sns.countplot(Y_train)\n",
        "\n",
        "Y_train.value_counts()"
      ],
      "execution_count": 0,
      "outputs": [
        {
          "output_type": "stream",
          "text": [
            "/usr/local/lib/python3.6/dist-packages/seaborn/categorical.py:1428: FutureWarning: remove_na is deprecated and is a private function. Do not use.\n",
            "  stat_data = remove_na(group_data)\n"
          ],
          "name": "stderr"
        },
        {
          "output_type": "execute_result",
          "data": {
            "text/plain": [
              "1    4684\n",
              "7    4401\n",
              "3    4351\n",
              "9    4188\n",
              "2    4177\n",
              "6    4137\n",
              "0    4132\n",
              "4    4072\n",
              "8    4063\n",
              "5    3795\n",
              "Name: label, dtype: int64"
            ]
          },
          "metadata": {
            "tags": []
          },
          "execution_count": 8
        },
        {
          "output_type": "display_data",
          "data": {
            "image/png": "[encoded data removed]",
            "text/plain": [
              "<matplotlib.figure.Figure at 0x7f8f9b94ecc0>"
            ]
          },
          "metadata": {
            "tags": []
          }
        }
      ]
    },
    {
      "metadata": {
        "id": "e5rcuPpwCNwZ",
        "colab_type": "code",
        "colab": {
          "base_uri": "https://localhost:8080/",
          "height": 101
        },
        "outputId": "6b63541b-66a6-4bb7-9e68-8f22ee15d255"
      },
      "cell_type": "code",
      "source": [
        "X_train.isnull().any().describe()\n",
        "test.isnull().any().describe()"
      ],
      "execution_count": 0,
      "outputs": [
        {
          "output_type": "execute_result",
          "data": {
            "text/plain": [
              "count       784\n",
              "unique        1\n",
              "top       False\n",
              "freq        784\n",
              "dtype: object"
            ]
          },
          "metadata": {
            "tags": []
          },
          "execution_count": 9
        }
      ]
    },
    {
      "metadata": {
        "id": "zN6p4NUlCWRH",
        "colab_type": "code",
        "colab": {
          "base_uri": "https://localhost:8080/",
          "height": 101
        },
        "outputId": "4b109c6a-e6a7-4d95-fb11-3613ddbe180f"
      },
      "cell_type": "code",
      "source": [
        ""
      ],
      "execution_count": 0,
      "outputs": [
        {
          "output_type": "execute_result",
          "data": {
            "text/plain": [
              "count       784\n",
              "unique        1\n",
              "top       False\n",
              "freq        784\n",
              "dtype: object"
            ]
          },
          "metadata": {
            "tags": []
          },
          "execution_count": 10
        }
      ]
    },
    {
      "metadata": {
        "id": "KibQ2XKmHtlG",
        "colab_type": "code",
        "colab": {}
      },
      "cell_type": "code",
      "source": [
        "X_train = X_train / 255.0\n",
        "test = test / 255.0\n",
        "X_train = X_train.values.reshape(-1,28,28,1)\n",
        "test = test.values.reshape(-1,28,28,1)\n",
        "Y_train = to_categorical(Y_train, num_classes = 10)\n",
        "random_seed = 2\n",
        "X_train, X_val, Y_train, Y_val = train_test_split(X_train, Y_train, test_size = 0.1, random_state=random_seed)\n",
        "g = plt.imshow(X_train[0][:,:,0])"
      ],
      "execution_count": 0,
      "outputs": []
    },
    {
      "metadata": {
        "id": "Dk3n77U9JP-w",
        "colab_type": "code",
        "colab": {}
      },
      "cell_type": "code",
      "source": [
        "model = Sequential()\n",
        "\n",
        "model.add(Conv2D(filters = 32, kernel_size = (10,10),padding = 'Same', \n",
        "                 activation ='relu', input_shape = (28,28,1)))\n",
        "model.add(Conv2D(filters = 32, kernel_size = (10,10),padding = 'Same', \n",
        "                 activation ='relu'))\n",
        "model.add(MaxPool2D(pool_size=(2,2)))\n",
        "model.add(Dropout(0.25))\n",
        "\n",
        "\n",
        "model.add(Conv2D(filters = 64, kernel_size = (5,5),padding = 'Same', \n",
        "                 activation ='relu'))\n",
        "model.add(Conv2D(filters = 64, kernel_size = (5,5),padding = 'Same', \n",
        "                 activation ='relu'))\n",
        "model.add(MaxPool2D(pool_size=(2,2), strides=(2,2)))\n",
        "model.add(Dropout(0.25))\n",
        "\n",
        "\n",
        "model.add(Conv2D(filters = 64, kernel_size = (3,3),padding = 'Same', \n",
        "                 activation ='relu'))\n",
        "model.add(Conv2D(filters = 64, kernel_size = (3,3),padding = 'Same', \n",
        "                 activation ='relu'))\n",
        "model.add(MaxPool2D(pool_size=(2,2), strides=(2,2)))\n",
        "model.add(Dropout(0.25))\n",
        "\n",
        "\n",
        "model.add(Flatten())\n",
        "model.add(Dense(256, activation = \"relu\"))\n",
        "model.add(Dropout(0.5))\n",
        "model.add(Dense(10, activation = \"softmax\"))"
      ],
      "execution_count": 0,
      "outputs": []
    },
    {
      "metadata": {
        "id": "AyzxeVztKz3W",
        "colab_type": "code",
        "colab": {}
      },
      "cell_type": "code",
      "source": [
        "optimizer = RMSprop(lr=0.001, rho=0.9, epsilon=1e-08, decay=0.0)\n",
        "model.compile(optimizer = optimizer , loss = \"categorical_crossentropy\", metrics=[\"accuracy\"])\n",
        "learning_rate_reduction = ReduceLROnPlateau(monitor='val_acc', \n",
        "                                            patience=3, \n",
        "                                            verbose=1, \n",
        "                                            factor=0.5, \n",
        "                                            min_lr=0.0000001)\n",
        "epochs = 50 # Turn epochs to 30 to get 0.9967 accuracy\n",
        "batch_size = 86"
      ],
      "execution_count": 0,
      "outputs": []
    },
    {
      "metadata": {
        "id": "MTsJ9gbOLkZl",
        "colab_type": "code",
        "colab": {}
      },
      "cell_type": "code",
      "source": [
        "datagen = ImageDataGenerator(\n",
        "        featurewise_center=False,  # set input mean to 0 over the dataset\n",
        "        samplewise_center=False,  # set each sample mean to 0\n",
        "        featurewise_std_normalization=False,  # divide inputs by std of the dataset\n",
        "        samplewise_std_normalization=False,  # divide each input by its std\n",
        "        zca_whitening=False,  # apply ZCA whitening\n",
        "        rotation_range=10,  # randomly rotate images in the range (degrees, 0 to 180)\n",
        "        zoom_range = 0.1, # Randomly zoom image \n",
        "        width_shift_range=0.1,  # randomly shift images horizontally (fraction of total width)\n",
        "        height_shift_range=0.1,  # randomly shift images vertically (fraction of total height)\n",
        "        horizontal_flip=False,  # randomly flip images\n",
        "        vertical_flip=False)  # randomly flip images\n",
        "\n",
        "\n",
        "datagen.fit(X_train)"
      ],
      "execution_count": 0,
      "outputs": []
    },
    {
      "metadata": {
        "id": "R4p4yQfqLoQG",
        "colab_type": "code",
        "colab": {
          "base_uri": "https://localhost:8080/",
          "height": 1932
        },
        "outputId": "0c370a2c-af04-4e40-a145-45034052e94e"
      },
      "cell_type": "code",
      "source": [
        "history = model.fit_generator(datagen.flow(X_train,Y_train, batch_size=batch_size),\n",
        "                              epochs = epochs, validation_data = (X_val,Y_val),\n",
        "                              verbose = 2, steps_per_epoch=X_train.shape[0] // batch_size\n",
        "                              , callbacks=[learning_rate_reduction])"
      ],
      "execution_count": 0,
      "outputs": [
        {
          "output_type": "stream",
          "text": [
            "Epoch 1/50\n",
            " - 15s - loss: 0.4192 - acc: 0.8659 - val_loss: 0.0702 - val_acc: 0.9802\n",
            "Epoch 2/50\n",
            " - 14s - loss: 0.1359 - acc: 0.9595 - val_loss: 0.0372 - val_acc: 0.9876\n",
            "Epoch 3/50\n",
            " - 14s - loss: 0.0972 - acc: 0.9710 - val_loss: 0.0440 - val_acc: 0.9907\n",
            "Epoch 4/50\n",
            " - 14s - loss: 0.0817 - acc: 0.9769 - val_loss: 0.0354 - val_acc: 0.9893\n",
            "Epoch 5/50\n",
            " - 14s - loss: 0.0725 - acc: 0.9785 - val_loss: 0.0419 - val_acc: 0.9848\n",
            "Epoch 6/50\n",
            " - 14s - loss: 0.0684 - acc: 0.9797 - val_loss: 0.0248 - val_acc: 0.9914\n",
            "Epoch 7/50\n",
            " - 14s - loss: 0.0620 - acc: 0.9821 - val_loss: 0.0284 - val_acc: 0.9907\n",
            "Epoch 8/50\n",
            " - 14s - loss: 0.0604 - acc: 0.9821 - val_loss: 0.0335 - val_acc: 0.9919\n",
            "Epoch 9/50\n",
            " - 14s - loss: 0.0593 - acc: 0.9829 - val_loss: 0.0182 - val_acc: 0.9921\n",
            "Epoch 10/50\n",
            " - 13s - loss: 0.0613 - acc: 0.9825 - val_loss: 0.0223 - val_acc: 0.9921\n",
            "Epoch 11/50\n",
            " - 14s - loss: 0.0617 - acc: 0.9831 - val_loss: 0.0241 - val_acc: 0.9945\n",
            "Epoch 12/50\n",
            " - 14s - loss: 0.0559 - acc: 0.9845 - val_loss: 0.0229 - val_acc: 0.9933\n",
            "Epoch 13/50\n",
            " - 14s - loss: 0.0648 - acc: 0.9818 - val_loss: 0.0257 - val_acc: 0.9919\n",
            "Epoch 14/50\n",
            " - 14s - loss: 0.0616 - acc: 0.9828 - val_loss: 0.0239 - val_acc: 0.9933\n",
            "\n",
            "Epoch 00014: ReduceLROnPlateau reducing learning rate to 0.0005000000237487257.\n",
            "Epoch 15/50\n",
            " - 14s - loss: 0.0487 - acc: 0.9863 - val_loss: 0.0185 - val_acc: 0.9945\n",
            "Epoch 16/50\n",
            " - 14s - loss: 0.0440 - acc: 0.9880 - val_loss: 0.0230 - val_acc: 0.9950\n",
            "Epoch 17/50\n",
            " - 14s - loss: 0.0440 - acc: 0.9886 - val_loss: 0.0224 - val_acc: 0.9929\n",
            "Epoch 18/50\n",
            " - 14s - loss: 0.0492 - acc: 0.9873 - val_loss: 0.0200 - val_acc: 0.9936\n",
            "Epoch 19/50\n",
            " - 14s - loss: 0.0472 - acc: 0.9876 - val_loss: 0.0342 - val_acc: 0.9933\n",
            "\n",
            "Epoch 00019: ReduceLROnPlateau reducing learning rate to 0.0002500000118743628.\n",
            "Epoch 20/50\n",
            " - 14s - loss: 0.0380 - acc: 0.9901 - val_loss: 0.0217 - val_acc: 0.9948\n",
            "Epoch 21/50\n",
            " - 14s - loss: 0.0384 - acc: 0.9898 - val_loss: 0.0285 - val_acc: 0.9943\n",
            "Epoch 22/50\n",
            " - 14s - loss: 0.0385 - acc: 0.9898 - val_loss: 0.0190 - val_acc: 0.9940\n",
            "\n",
            "Epoch 00022: ReduceLROnPlateau reducing learning rate to 0.0001250000059371814.\n",
            "Epoch 23/50\n",
            " - 14s - loss: 0.0336 - acc: 0.9906 - val_loss: 0.0191 - val_acc: 0.9948\n",
            "Epoch 24/50\n",
            " - 14s - loss: 0.0373 - acc: 0.9896 - val_loss: 0.0185 - val_acc: 0.9957\n",
            "Epoch 25/50\n",
            " - 14s - loss: 0.0355 - acc: 0.9902 - val_loss: 0.0204 - val_acc: 0.9952\n",
            "Epoch 26/50\n",
            " - 14s - loss: 0.0341 - acc: 0.9906 - val_loss: 0.0171 - val_acc: 0.9952\n",
            "Epoch 27/50\n",
            " - 14s - loss: 0.0350 - acc: 0.9906 - val_loss: 0.0221 - val_acc: 0.9940\n",
            "\n",
            "Epoch 00027: ReduceLROnPlateau reducing learning rate to 6.25000029685907e-05.\n",
            "Epoch 28/50\n",
            " - 14s - loss: 0.0331 - acc: 0.9908 - val_loss: 0.0174 - val_acc: 0.9950\n",
            "Epoch 29/50\n",
            " - 14s - loss: 0.0319 - acc: 0.9911 - val_loss: 0.0199 - val_acc: 0.9948\n",
            "Epoch 30/50\n",
            " - 14s - loss: 0.0312 - acc: 0.9909 - val_loss: 0.0202 - val_acc: 0.9948\n",
            "\n",
            "Epoch 00030: ReduceLROnPlateau reducing learning rate to 3.125000148429535e-05.\n",
            "Epoch 31/50\n",
            " - 14s - loss: 0.0321 - acc: 0.9908 - val_loss: 0.0182 - val_acc: 0.9950\n",
            "Epoch 32/50\n",
            " - 14s - loss: 0.0308 - acc: 0.9912 - val_loss: 0.0186 - val_acc: 0.9952\n",
            "Epoch 33/50\n"
          ],
          "name": "stdout"
        },
        {
          "output_type": "stream",
          "text": [
            " - 14s - loss: 0.0310 - acc: 0.9916 - val_loss: 0.0170 - val_acc: 0.9948\n",
            "\n",
            "Epoch 00033: ReduceLROnPlateau reducing learning rate to 1.5625000742147677e-05.\n",
            "Epoch 34/50\n",
            " - 14s - loss: 0.0291 - acc: 0.9915 - val_loss: 0.0182 - val_acc: 0.9952\n",
            "Epoch 35/50\n",
            " - 14s - loss: 0.0290 - acc: 0.9921 - val_loss: 0.0184 - val_acc: 0.9952\n",
            "Epoch 36/50\n",
            " - 14s - loss: 0.0308 - acc: 0.9913 - val_loss: 0.0178 - val_acc: 0.9950\n",
            "\n",
            "Epoch 00036: ReduceLROnPlateau reducing learning rate to 1e-05.\n",
            "Epoch 37/50\n",
            " - 14s - loss: 0.0302 - acc: 0.9916 - val_loss: 0.0186 - val_acc: 0.9952\n",
            "Epoch 38/50\n",
            " - 14s - loss: 0.0289 - acc: 0.9919 - val_loss: 0.0183 - val_acc: 0.9955\n",
            "Epoch 39/50\n",
            " - 14s - loss: 0.0305 - acc: 0.9916 - val_loss: 0.0179 - val_acc: 0.9955\n",
            "Epoch 40/50\n",
            " - 14s - loss: 0.0315 - acc: 0.9916 - val_loss: 0.0185 - val_acc: 0.9952\n",
            "Epoch 41/50\n",
            " - 14s - loss: 0.0282 - acc: 0.9919 - val_loss: 0.0185 - val_acc: 0.9952\n",
            "Epoch 42/50\n",
            " - 14s - loss: 0.0328 - acc: 0.9912 - val_loss: 0.0180 - val_acc: 0.9952\n",
            "Epoch 43/50\n",
            " - 14s - loss: 0.0297 - acc: 0.9917 - val_loss: 0.0188 - val_acc: 0.9955\n",
            "Epoch 44/50\n",
            " - 14s - loss: 0.0290 - acc: 0.9914 - val_loss: 0.0186 - val_acc: 0.9955\n",
            "Epoch 45/50\n",
            " - 14s - loss: 0.0275 - acc: 0.9916 - val_loss: 0.0178 - val_acc: 0.9952\n",
            "Epoch 46/50\n",
            " - 14s - loss: 0.0283 - acc: 0.9921 - val_loss: 0.0181 - val_acc: 0.9952\n",
            "Epoch 47/50\n",
            " - 14s - loss: 0.0276 - acc: 0.9926 - val_loss: 0.0177 - val_acc: 0.9952\n",
            "Epoch 48/50\n",
            " - 14s - loss: 0.0305 - acc: 0.9919 - val_loss: 0.0182 - val_acc: 0.9955\n",
            "Epoch 49/50\n",
            " - 14s - loss: 0.0301 - acc: 0.9914 - val_loss: 0.0180 - val_acc: 0.9955\n",
            "Epoch 50/50\n",
            " - 14s - loss: 0.0291 - acc: 0.9918 - val_loss: 0.0181 - val_acc: 0.9952\n"
          ],
          "name": "stdout"
        }
      ]
    },
    {
      "metadata": {
        "id": "Su55nlM9LpeF",
        "colab_type": "code",
        "colab": {
          "base_uri": "https://localhost:8080/",
          "height": 347
        },
        "outputId": "6f05bc11-1dde-425b-ed6a-3a0d623f6156"
      },
      "cell_type": "code",
      "source": [
        "fig, ax = plt.subplots(2,1)\n",
        "ax[0].plot(history.history['loss'], color='b', label=\"Training loss\")\n",
        "ax[0].plot(history.history['val_loss'], color='r', label=\"validation loss\",axes =ax[0])\n",
        "legend = ax[0].legend(loc='best', shadow=True)\n",
        "\n",
        "ax[1].plot(history.history['acc'], color='b', label=\"Training accuracy\")\n",
        "ax[1].plot(history.history['val_acc'], color='r',label=\"Validation accuracy\")\n",
        "legend = ax[1].legend(loc='best', shadow=True)"
      ],
      "execution_count": 0,
      "outputs": [
        {
          "output_type": "display_data",
          "data": {
            "image/png": "[encoded data removed]",
            "text/plain": [
              "<matplotlib.figure.Figure at 0x7f8f448c8160>"
            ]
          },
          "metadata": {
            "tags": []
          }
        }
      ]
    },
    {
      "metadata": {
        "id": "RQrpIA5RMaCG",
        "colab_type": "code",
        "colab": {}
      },
      "cell_type": "code",
      "source": [
        "history = model.fit_generator(datagen.flow(X_train,Y_train, batch_size=batch_size),\n",
        "                              epochs = epochs, validation_data = (X_val,Y_val),\n",
        "                              verbose = 2, steps_per_epoch=X_train.shape[0] // batch_size\n",
        "                              , callbacks=[learning_rate_reduction])"
      ],
      "execution_count": 0,
      "outputs": []
    },
    {
      "metadata": {
        "id": "J3gwm2RWh2qQ",
        "colab_type": "code",
        "colab": {
          "base_uri": "https://localhost:8080/",
          "height": 415
        },
        "outputId": "f7e1769e-3c86-4a21-bb86-ea5a4bf7b6d6"
      },
      "cell_type": "code",
      "source": [
        "def plot_confusion_matrix(cm, classes,\n",
        "                          normalize=False,\n",
        "                          title='Confusion matrix',\n",
        "                          cmap=plt.cm.Blues):\n",
        "    \"\"\"\n",
        "    This function prints and plots the confusion matrix.\n",
        "    Normalization can be applied by setting `normalize=True`.\n",
        "    \"\"\"\n",
        "    plt.imshow(cm, interpolation='nearest', cmap=cmap)\n",
        "    plt.title(title)\n",
        "    plt.colorbar()\n",
        "    tick_marks = np.arange(len(classes))\n",
        "    plt.xticks(tick_marks, classes, rotation=45)\n",
        "    plt.yticks(tick_marks, classes)\n",
        "\n",
        "    if normalize:\n",
        "        cm = cm.astype('float') / cm.sum(axis=1)[:, np.newaxis]\n",
        "\n",
        "    thresh = cm.max() / 2.\n",
        "    for i, j in itertools.product(range(cm.shape[0]), range(cm.shape[1])):\n",
        "        plt.text(j, i, cm[i, j],\n",
        "                 horizontalalignment=\"center\",\n",
        "                 color=\"white\" if cm[i, j] > thresh else \"black\")\n",
        "\n",
        "    plt.tight_layout()\n",
        "    plt.ylabel('True label')\n",
        "    plt.xlabel('Predicted label')\n",
        "\n",
        "# Predict the values from the validation dataset\n",
        "Y_pred = model.predict(X_val)\n",
        "# Convert predictions classes to one hot vectors \n",
        "Y_pred_classes = np.argmax(Y_pred,axis = 1) \n",
        "# Convert validation observations to one hot vectors\n",
        "Y_true = np.argmax(Y_val,axis = 1) \n",
        "# compute the confusion matrix\n",
        "confusion_mtx = confusion_matrix(Y_true, Y_pred_classes) \n",
        "# plot the confusion matrix\n",
        "plot_confusion_matrix(confusion_mtx, classes = range(10)) "
      ],
      "execution_count": 0,
      "outputs": [
        {
          "output_type": "display_data",
          "data": {
            "image/png": "[encoded data removed]",
            "text/plain": [
              "<matplotlib.figure.Figure at 0x7f8f3d257438>"
            ]
          },
          "metadata": {
            "tags": []
          }
        }
      ]
    },
    {
      "metadata": {
        "id": "KsaJ3WH3iHhZ",
        "colab_type": "code",
        "colab": {
          "base_uri": "https://localhost:8080/",
          "height": 376
        },
        "outputId": "a65143d4-f193-407b-d903-eb7c1ad7291a"
      },
      "cell_type": "code",
      "source": [
        "# Display some error results \n",
        "\n",
        "# Errors are difference between predicted labels and true labels\n",
        "errors = (Y_pred_classes - Y_true != 0)\n",
        "\n",
        "Y_pred_classes_errors = Y_pred_classes[errors]\n",
        "Y_pred_errors = Y_pred[errors]\n",
        "Y_true_errors = Y_true[errors]\n",
        "X_val_errors = X_val[errors]\n",
        "\n",
        "def display_errors(errors_index,img_errors,pred_errors, obs_errors):\n",
        "    \"\"\" This function shows 6 images with their predicted and real labels\"\"\"\n",
        "    n = 0\n",
        "    nrows = 2\n",
        "    ncols = 3\n",
        "    fig, ax = plt.subplots(nrows,ncols,sharex=True,sharey=True)\n",
        "    for row in range(nrows):\n",
        "        for col in range(ncols):\n",
        "            error = errors_index[n]\n",
        "            ax[row,col].imshow((img_errors[error]).reshape((28,28)))\n",
        "            ax[row,col].set_title(\"Predicted label :{}\\nTrue label :{}\".format(pred_errors[error],obs_errors[error]))\n",
        "            n += 1\n",
        "\n",
        "# Probabilities of the wrong predicted numbers\n",
        "Y_pred_errors_prob = np.max(Y_pred_errors,axis = 1)\n",
        "\n",
        "# Predicted probabilities of the true values in the error set\n",
        "true_prob_errors = np.diagonal(np.take(Y_pred_errors, Y_true_errors, axis=1))\n",
        "\n",
        "# Difference between the probability of the predicted label and the true label\n",
        "delta_pred_true_errors = Y_pred_errors_prob - true_prob_errors\n",
        "\n",
        "# Sorted list of the delta prob errors\n",
        "sorted_dela_errors = np.argsort(delta_pred_true_errors)\n",
        "\n",
        "# Top 6 errors \n",
        "most_important_errors = sorted_dela_errors[-6:]\n",
        "\n",
        "# Show the top 6 errors\n",
        "display_errors(most_important_errors, X_val_errors, Y_pred_classes_errors, Y_true_errors)"
      ],
      "execution_count": 0,
      "outputs": [
        {
          "output_type": "display_data",
          "data": {
            "image/png": "[encoded data removed]",
            "text/plain": [
              "<matplotlib.figure.Figure at 0x7f8f44b6d5f8>"
            ]
          },
          "metadata": {
            "tags": []
          }
        }
      ]
    },
    {
      "metadata": {
        "id": "WcIsIGYWmkth",
        "colab_type": "code",
        "colab": {}
      },
      "cell_type": "code",
      "source": [
        "# predict results\n",
        "results = model.predict(test)\n",
        "\n",
        "# select the indix with the maximum probability\n",
        "results = np.argmax(results,axis = 1)\n",
        "\n",
        "results = pd.Series(results,name=\"Label\")\n",
        "\n",
        "submission = pd.concat([pd.Series(range(1,28001),name = \"ImageId\"),results],axis = 1)\n",
        "\n",
        "submission.to_csv(\"cnn_mnist_datagen.csv\",index=False)"
      ],
      "execution_count": 0,
      "outputs": []
    },
    {
      "metadata": {
        "id": "uIM0K1fwvNZD",
        "colab_type": "code",
        "colab": {}
      },
      "cell_type": "code",
      "source": [
        "from google.colab import files\n",
        "files.download('cnn_mnist_datagen.csv') "
      ],
      "execution_count": 0,
      "outputs": []
    },
    {
      "metadata": {
        "id": "OLEjxQfcArMx",
        "colab_type": "code",
        "colab": {}
      },
      "cell_type": "code",
      "source": [
        "history = model.fit_generator(datagen.flow(X_train,Y_train, batch_size=batch_size),\n",
        "                              epochs = epochs, validation_data = (X_val,Y_val),\n",
        "                              verbose = 2, steps_per_epoch=X_train.shape[0] // batch_size\n",
        "                              , callbacks=[learning_rate_reduction])"
      ],
      "execution_count": 0,
      "outputs": []
    },
    {
      "metadata": {
        "id": "bfDVkMwtSU48",
        "colab_type": "code",
        "colab": {}
      },
      "cell_type": "code",
      "source": [
        "fig, ax = plt.subplots(2,1)\n",
        "ax[0].plot(history.history['loss'], color='b', label=\"Training loss\")\n",
        "ax[0].plot(history.history['val_loss'], color='r', label=\"validation loss\",axes =ax[0])\n",
        "legend = ax[0].legend(loc='best', shadow=True)\n",
        "\n",
        "ax[1].plot(history.history['acc'], color='b', label=\"Training accuracy\")\n",
        "ax[1].plot(history.history['val_acc'], color='r',label=\"Validation accuracy\")\n",
        "legend = ax[1].legend(loc='best', shadow=True)"
      ],
      "execution_count": 0,
      "outputs": []
    }
  ]
}